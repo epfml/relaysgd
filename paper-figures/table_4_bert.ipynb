{
 "cells": [
  {
   "cell_type": "code",
   "execution_count": 1,
   "metadata": {},
   "outputs": [],
   "source": [
    "%load_ext autoreload\n",
    "%autoreload 2"
   ]
  },
  {
   "cell_type": "code",
   "execution_count": 2,
   "metadata": {},
   "outputs": [
    {
     "data": {
      "application/javascript": [
       "Jupyter.CodeCell.options_default.highlight_modes.magic_tex = { reg: [\"^%%template\"] };"
      ],
      "text/plain": [
       "<IPython.core.display.Javascript object>"
      ]
     },
     "metadata": {},
     "output_type": "display_data"
    }
   ],
   "source": [
    "from utils import query, job_config, render, register_filter, register_global\n",
    "import pandas as pd"
   ]
  },
  {
   "cell_type": "code",
   "execution_count": 29,
   "metadata": {},
   "outputs": [],
   "source": [
    "properties = {\n",
    "    \"decentralized Adam, ring (three seeds)\": {\n",
    "        \"algorithm\": \"\\dpsgd Adam\",\n",
    "        \"topology\": \"ring\",\n",
    "    },\n",
    "    \"decentralized quasi-global Adam, ring (three seeds)\": {\n",
    "        \"algorithm\": \"Quasi-global Adam\",\n",
    "        \"topology\": \"ring\",\n",
    "    },\n",
    "    \"decentralized RelaySum Adam, strip (three seeds)\": {\n",
    "        \"algorithm\": \"Relay-Adam\",\n",
    "        \"topology\": \"chain\",\n",
    "    },\n",
    "}"
   ]
  },
  {
   "cell_type": "code",
   "execution_count": 62,
   "metadata": {},
   "outputs": [
    {
     "name": "stdout",
     "output_type": "stream",
     "text": [
      "[0.3294583261013031, 0.5745546817779541, 0.7385234236717224, 0.8102396130561829, 0.8364322781562805, 0.8511145710945129, 0.8607344031333923, 0.8687864542007446, 0.8746484518051147, 0.8783723711967468]\n",
      "[0.3264843821525574, 0.5296354293823242, 0.7597265839576721, 0.8230312466621399, 0.8462968468666077, 0.8569505214691162, 0.8626458048820496, 0.8675729036331177, 0.8711276054382324, 0.874010443687439]\n",
      "[0.45139843225479126, 0.7250573039054871, 0.7864010334014893, 0.8154869675636292, 0.8309817910194397, 0.8417942523956299, 0.8501067757606506, 0.8562890887260437, 0.8619478940963745, 0.8663932085037231]\n",
      "[0.31003645062446594, 0.6053072810173035, 0.7581406235694885, 0.8183125257492065, 0.8451744914054871, 0.8627526164054871, 0.8736979365348816, 0.881460964679718, 0.8869504928588867, 0.8903645873069763]\n",
      "[0.307638019323349, 0.5592551827430725, 0.788783848285675, 0.8393046855926514, 0.8554531335830688, 0.8645885586738586, 0.870408833026886, 0.8752031326293945, 0.8798515796661377, 0.8824140429496765]\n",
      "[0.4166145920753479, 0.7349791526794434, 0.7959713339805603, 0.8254817724227905, 0.8420703411102295, 0.8534765839576721, 0.8628411293029785, 0.8686145544052124, 0.8742916584014893, 0.8770495057106018]\n",
      "[0.9144713282585144, 0.9208229184150696, 0.9230077862739563, 0.9258697628974915, 0.9305078387260437, 0.9299114346504211, 0.9294244647026062, 0.9332708120346069, 0.9315312504768372, 0.9311119914054871]\n",
      "[0.9071276187896729, 0.915330708026886, 0.9250755310058594, 0.9255338311195374, 0.9259244799613953, 0.9268776178359985, 0.9225755333900452, 0.9306067824363708, 0.9281848669052124, 0.9314531087875366]\n",
      "[0.911776065826416, 0.9228619933128357, 0.9256302118301392, 0.9322864413261414, 0.9328984618186951, 0.9319947957992554, 0.9322578310966492, 0.9312864542007446, 0.9333776235580444, 0.9334869980812073]\n"
     ]
    },
    {
     "data": {
      "text/html": [
       "<div>\n",
       "<style scoped>\n",
       "    .dataframe tbody tr th:only-of-type {\n",
       "        vertical-align: middle;\n",
       "    }\n",
       "\n",
       "    .dataframe tbody tr th {\n",
       "        vertical-align: top;\n",
       "    }\n",
       "\n",
       "    .dataframe thead th {\n",
       "        text-align: right;\n",
       "    }\n",
       "</style>\n",
       "<table border=\"1\" class=\"dataframe\">\n",
       "  <thead>\n",
       "    <tr style=\"text-align: right;\">\n",
       "      <th></th>\n",
       "      <th></th>\n",
       "      <th></th>\n",
       "      <th>seed</th>\n",
       "      <th>value</th>\n",
       "    </tr>\n",
       "    <tr>\n",
       "      <th>algorithm</th>\n",
       "      <th>topology</th>\n",
       "      <th>metric</th>\n",
       "      <th></th>\n",
       "      <th></th>\n",
       "    </tr>\n",
       "  </thead>\n",
       "  <tbody>\n",
       "    <tr>\n",
       "      <th rowspan=\"3\" valign=\"top\">\\dpsgd Adam</th>\n",
       "      <th rowspan=\"3\" valign=\"top\">ring</th>\n",
       "      <th>accuracy</th>\n",
       "      <td>0</td>\n",
       "      <td>0.878372</td>\n",
       "    </tr>\n",
       "    <tr>\n",
       "      <th>accuracy</th>\n",
       "      <td>1</td>\n",
       "      <td>0.874010</td>\n",
       "    </tr>\n",
       "    <tr>\n",
       "      <th>accuracy</th>\n",
       "      <td>2</td>\n",
       "      <td>0.866393</td>\n",
       "    </tr>\n",
       "    <tr>\n",
       "      <th rowspan=\"3\" valign=\"top\">Quasi-global Adam</th>\n",
       "      <th rowspan=\"3\" valign=\"top\">ring</th>\n",
       "      <th>accuracy</th>\n",
       "      <td>0</td>\n",
       "      <td>0.890365</td>\n",
       "    </tr>\n",
       "    <tr>\n",
       "      <th>accuracy</th>\n",
       "      <td>1</td>\n",
       "      <td>0.882414</td>\n",
       "    </tr>\n",
       "    <tr>\n",
       "      <th>accuracy</th>\n",
       "      <td>2</td>\n",
       "      <td>0.877050</td>\n",
       "    </tr>\n",
       "    <tr>\n",
       "      <th rowspan=\"3\" valign=\"top\">Relay-Adam</th>\n",
       "      <th rowspan=\"3\" valign=\"top\">chain</th>\n",
       "      <th>accuracy</th>\n",
       "      <td>0</td>\n",
       "      <td>0.931112</td>\n",
       "    </tr>\n",
       "    <tr>\n",
       "      <th>accuracy</th>\n",
       "      <td>1</td>\n",
       "      <td>0.931453</td>\n",
       "    </tr>\n",
       "    <tr>\n",
       "      <th>accuracy</th>\n",
       "      <td>2</td>\n",
       "      <td>0.933487</td>\n",
       "    </tr>\n",
       "  </tbody>\n",
       "</table>\n",
       "</div>"
      ],
      "text/plain": [
       "                                     seed     value\n",
       "algorithm         topology metric                  \n",
       "\\dpsgd Adam       ring     accuracy     0  0.878372\n",
       "                           accuracy     1  0.874010\n",
       "                           accuracy     2  0.866393\n",
       "Quasi-global Adam ring     accuracy     0  0.890365\n",
       "                           accuracy     1  0.882414\n",
       "                           accuracy     2  0.877050\n",
       "Relay-Adam        chain    accuracy     0  0.931112\n",
       "                           accuracy     1  0.931453\n",
       "                           accuracy     2  0.933487"
      ]
     },
     "execution_count": 62,
     "metadata": {},
     "output_type": "execute_result"
    }
   ],
   "source": [
    "results = []\n",
    "for key, value in pd.read_pickle(\"data/distilbert_on_agnews_with_01_alpha.pickle\").items():\n",
    "    props = properties[key]\n",
    "    for seed, values in enumerate(value):\n",
    "        print(values[\"averaged top-1 of local models (each on full test dataset)\"])\n",
    "        accuracy = sum(values[\"averaged top-1 of local models (each on full test dataset)\"][-1:])\n",
    "        results.append({\n",
    "            **props,\n",
    "            \"seed\": seed,\n",
    "            \"metric\": \"accuracy\",\n",
    "            \"value\": accuracy,\n",
    "        })\n",
    "df = pd.DataFrame(results).set_index([\"algorithm\", \"topology\",  \"metric\"])\n",
    "df"
   ]
  },
  {
   "cell_type": "code",
   "execution_count": 63,
   "metadata": {},
   "outputs": [],
   "source": [
    "@register_filter\n",
    "def percentage(value):\n",
    "    val = value * 100\n",
    "    return f\"{val:.1f}\\%\"\n",
    "\n",
    "def acc(algorithm, topology):\n",
    "    return df.loc[algorithm, topology, \"accuracy\"][\"value\"].array"
   ]
  },
  {
   "cell_type": "code",
   "execution_count": 64,
   "metadata": {},
   "outputs": [],
   "source": [
    "register_global(\"acc\", acc)"
   ]
  },
  {
   "cell_type": "code",
   "execution_count": 65,
   "metadata": {},
   "outputs": [
    {
     "name": "stderr",
     "output_type": "stream",
     "text": [
      "/Users/anonymized/anaconda3/lib/python3.7/site-packages/ipykernel_launcher.py:7: PerformanceWarning: indexing past lexsort depth may impact performance.\n",
      "  import sys\n"
     ]
    },
    {
     "data": {
      "text/plain": [
       "<PandasArray>\n",
       "[0.8783723711967468, 0.874010443687439, 0.8663932085037231]\n",
       "Length: 3, dtype: float64"
      ]
     },
     "execution_count": 65,
     "metadata": {},
     "output_type": "execute_result"
    }
   ],
   "source": [
    "acc(\"\\dpsgd Adam\", \"ring\")"
   ]
  },
  {
   "cell_type": "code",
   "execution_count": 82,
   "metadata": {},
   "outputs": [],
   "source": [
    "%%template table\n",
    "\\tablefontsize\n",
    "\\centering\n",
    "\\begin{tabularx}{\\textwidth}{X l l}\n",
    "    \\toprule\n",
    "    Algorithm & Topology & Top-1 Accuracy \\\\\n",
    "    \\cmidrule(lr){1-2}     \\cmidrule(lr){3-3}\n",
    "    Centralized Adam & fully-connected & 94.2\\% $\\pm$ 0.1\\% \\\\\n",
    "    \\textbf{Relay-Adam} & chain & \\Var{acc(\"Relay-Adam\", \"chain\").mean() | percentage} $\\pm$ \\Var{acc(\"Relay-Adam\", \"chain\").std() | percentage} \\\\\n",
    "    \\dpsgd Adam & ring & \\Var{acc(\"\\dpsgd Adam\", \"ring\").mean() | percentage} $\\pm$ \\Var{acc(\"\\dpsgd Adam\", \"ring\").std() | percentage} \\\\\n",
    "    Quasi-global Adam~\\citep{lin2021quasiglobal} & ring & \\Var{acc(\"Quasi-global Adam\", \"ring\").mean() | percentage} $\\pm$ \\Var{acc(\"Quasi-global Adam\", \"ring\").std() | percentage} \\\\\n",
    "    \\bottomrule\n",
    "\\end{tabularx}"
   ]
  },
  {
   "cell_type": "code",
   "execution_count": 83,
   "metadata": {},
   "outputs": [
    {
     "name": "stdout",
     "output_type": "stream",
     "text": [
      "\\tablefontsize\n",
      "\\centering\n",
      "\\begin{tabularx}{\\textwidth}{X l l}\n",
      "    \\toprule\n",
      "    Algorithm & Topology & Top-1 Accuracy \\\\\n",
      "    \\cmidrule(lr){1-2}     \\cmidrule(lr){3-3}\n",
      "    Centralized Adam & fully-connected & 94.2\\% $\\pm$ 0.1\\% \\\\\n",
      "    \\textbf{Relay-Adam} & chain & 93.2\\% $\\pm$ 0.1\\% \\\\\n",
      "    \\dpsgd Adam & ring & 87.3\\% $\\pm$ 0.6\\% \\\\\n",
      "    Quasi-global Adam~\\citep{lin2021quasiglobal} & ring & 88.3\\% $\\pm$ 0.7\\% \\\\\n",
      "    \\bottomrule\n",
      "\\end{tabularx}\n"
     ]
    },
    {
     "name": "stderr",
     "output_type": "stream",
     "text": [
      "/Users/anonymized/anaconda3/lib/python3.7/site-packages/ipykernel_launcher.py:7: PerformanceWarning: indexing past lexsort depth may impact performance.\n",
      "  import sys\n"
     ]
    }
   ],
   "source": [
    "!mkdir -p generated\n",
    "with open(\"generated/bert-ag-news-results.tex\", \"w\") as fp:\n",
    "    res = render(\"table\")\n",
    "    fp.write(res)\n",
    "    print(res)"
   ]
  },
  {
   "cell_type": "code",
   "execution_count": null,
   "metadata": {},
   "outputs": [],
   "source": []
  },
  {
   "cell_type": "code",
   "execution_count": null,
   "metadata": {},
   "outputs": [],
   "source": []
  }
 ],
 "metadata": {
  "kernelspec": {
   "display_name": "Python 3.7.4 64-bit ('anaconda3': conda)",
   "language": "python",
   "name": "python37464bitanaconda3conda7403c56cbe6b465c807157f843c10752"
  },
  "language_info": {
   "codemirror_mode": {
    "name": "ipython",
    "version": 3
   },
   "file_extension": ".py",
   "mimetype": "text/x-python",
   "name": "python",
   "nbconvert_exporter": "python",
   "pygments_lexer": "ipython3",
   "version": "3.7.4"
  },
  "toc": {
   "base_numbering": 1,
   "nav_menu": {},
   "number_sections": true,
   "sideBar": true,
   "skip_h1_title": false,
   "title_cell": "Table of Contents",
   "title_sidebar": "Contents",
   "toc_cell": false,
   "toc_position": {},
   "toc_section_display": true,
   "toc_window_display": false
  }
 },
 "nbformat": 4,
 "nbformat_minor": 4
}